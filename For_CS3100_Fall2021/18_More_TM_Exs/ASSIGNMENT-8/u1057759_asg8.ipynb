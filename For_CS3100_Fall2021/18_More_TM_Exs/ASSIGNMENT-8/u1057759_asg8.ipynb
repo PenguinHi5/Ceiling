{
  "nbformat": 4,
  "nbformat_minor": 0,
  "metadata": {
    "colab": {
      "name": "u0000000_asg9.ipynb",
      "provenance": []
    },
    "kernelspec": {
      "display_name": "Python 3",
      "language": "python",
      "name": "python3"
    },
    "language_info": {
      "codemirror_mode": {
        "name": "ipython",
        "version": 3
      },
      "file_extension": ".py",
      "mimetype": "text/x-python",
      "name": "python",
      "nbconvert_exporter": "python",
      "pygments_lexer": "ipython3",
      "version": "3.8.5"
    },
    "toc": {
      "colors": {
        "hover_highlight": "#DAA520",
        "running_highlight": "#FF0000",
        "selected_highlight": "#FFD700"
      },
      "moveMenuLeft": true,
      "nav_menu": {
        "height": "121px",
        "width": "252px"
      },
      "navigate_menu": true,
      "number_sections": true,
      "sideBar": true,
      "threshold": 4,
      "toc_cell": false,
      "toc_section_display": "block",
      "toc_window_display": false,
      "widenNotebook": false
    }
  },
  "cells": [
    {
      "cell_type": "code",
      "metadata": {
        "id": "JnmsuJTNzKzZ",
        "outputId": "6400b2de-2776-4da1-b3e4-8a6324b6c22a",
        "colab": {
          "base_uri": "https://localhost:8080/"
        }
      },
      "source": [
        "#~~~~~~~~~~~~~~~~~~~~~~~~~~~~~~~~~~~~~~~~~~~~~~~~~~~~~~~\n",
        "import sys\n",
        "\n",
        "# -- Detect if in Own Install or in Colab\n",
        "try:\n",
        "    import google.colab\n",
        "    OWN_INSTALL = False\n",
        "except:\n",
        "    OWN_INSTALL = True\n",
        "    \n",
        "if OWN_INSTALL:\n",
        "    print(\"Own install\")\n",
        "    sys.path[0:0] = ['../../../../..',  '../../../../../3rdparty',\n",
        "                     '../../../..',  '../../../../3rdparty',\n",
        "                     '../../..',     '../../../3rdparty',\n",
        "                     '../..',        '../../3rdparty',\n",
        "                     '..',           '../3rdparty' ]\n",
        "    \n",
        "else: # In colab\n",
        "    ! if [ ! -d Jove ]; then git clone https://github.com/ganeshutah/Jove Jove; fi\n",
        "    sys.path.append('./Jove')\n",
        "    sys.path.append('./Jove/jove')\n",
        "\n",
        "# -- common imports --\n",
        "from jove.PcpJupyterNew import *\n",
        "#~~~~~~~~~~~~~~~~~~~~~~~~~~~~~~~~~~~~~~~~~~~~~~~~~~~~~~~"
      ],
      "execution_count": 1,
      "outputs": [
        {
          "output_type": "stream",
          "name": "stdout",
          "text": [
            "Cloning into 'Jove'...\n",
            "remote: Enumerating objects: 5112, done.\u001b[K\n",
            "remote: Counting objects: 100% (478/478), done.\u001b[K\n",
            "remote: Compressing objects: 100% (339/339), done.\u001b[K\n",
            "remote: Total 5112 (delta 272), reused 317 (delta 124), pack-reused 4634\u001b[K\n",
            "Receiving objects: 100% (5112/5112), 7.64 MiB | 12.52 MiB/s, done.\n",
            "Resolving deltas: 100% (3277/3277), done.\n"
          ]
        }
      ]
    },
    {
      "cell_type": "markdown",
      "metadata": {
        "id": "phf_LwKYcetl"
      },
      "source": [
        "## Question 1 (25 points):\n",
        "\n",
        "### Solve the PCP instance given below by hand first (15 points) \n",
        "\n",
        "\n",
        "### TILES = [('110', '1'), ('1', '0'), ('0', '110'),       ('0','1')] \n",
        "\n",
        "### And then by using the tool (10 points)\n",
        "\n",
        "### using the command pcp_solve( TILES  , OWN_INSTALL)  \n",
        "\n",
        "### You may always use help(pcp_solve) for details"
      ]
    },
    {
      "cell_type": "markdown",
      "metadata": {
        "id": "PAOhHgEjwJzm"
      },
      "source": [
        "# Hand Solution\n",
        "\n",
        "### Express it as a sequence of tiles with repetition, numbering the first tile 1, second tile 2, etc.\n",
        "\n",
        "### Example: If the solution is Tile-1 then Tile-3, then Tile-2, then Tile-2, write 1322\n"
      ]
    },
    {
      "cell_type": "code",
      "metadata": {
        "id": "C3bzB9yuwJzm"
      },
      "source": [
        "# Tool Solution\n",
        " "
      ],
      "execution_count": null,
      "outputs": []
    },
    {
      "cell_type": "code",
      "metadata": {
        "id": "upAomNPtwJzn"
      },
      "source": [
        ""
      ],
      "execution_count": null,
      "outputs": []
    },
    {
      "cell_type": "markdown",
      "metadata": {
        "id": "ibuS7Yf2wJzn"
      },
      "source": [
        "## Question 2 (25 points):"
      ]
    },
    {
      "cell_type": "markdown",
      "metadata": {
        "id": "OA7BHCPAwJzo"
      },
      "source": [
        "Part a (15 points): Adapt the proof of Theorem 15.3, Page 233, to a very similar proof that spells out that HaltTM is not recursive.  \n",
        "HaltTM = {<M, w> : M is a TM and w its input and M halts on w}. Please imitate the proof of 15.3 step by step, making the necessary changes:"
      ]
    },
    {
      "cell_type": "markdown",
      "metadata": {
        "id": "UfxUK7NewJzp"
      },
      "source": [
        "### Your proof below\n",
        "\n"
      ]
    },
    {
      "cell_type": "markdown",
      "metadata": {
        "id": "CDmfVDNcwJzq"
      },
      "source": [
        "Part b (10 points): Adapt the proof in Figure 15.10 to argue that CFL_TM is not recursive.  \n",
        "CFL_TM = {\\<M> : M is a TM whose language is context − free}"
      ]
    },
    {
      "cell_type": "markdown",
      "metadata": {
        "id": "Fr-FUTe7wJzq"
      },
      "source": [
        "### Your proof below\n",
        "\n"
      ]
    },
    {
      "cell_type": "markdown",
      "metadata": {
        "id": "o9hh5_F4n8n5"
      },
      "source": [
        "## Question 3 (25 points):"
      ]
    },
    {
      "cell_type": "markdown",
      "metadata": {
        "id": "R9bd3UrFoFT3"
      },
      "source": [
        "- Design a deterministic Turing machine (DTM) over the input alphabet Σ = {a, b, #} for the language of all strings of the form w#x where w, x ∈ {a, b}∗ and w is a substring of x. See the definition of substring here: https://en.wikipedia.org/wiki/Substring\n",
        "\n",
        "- You must design a deterministic Turing machine which absolutely has no non-determinism anywhere in its state transitions. A deterministic algorithm here requires searching for all w beginnings within x. A correct design will have a deterministic polynomial runtime.\n",
        "\n",
        "- Add 5 more tests of your own."
      ]
    },
    {
      "cell_type": "code",
      "metadata": {
        "id": "4GYe37nZuNDN"
      },
      "source": [
        "Asg9DTM = md2mc('''\n",
        "TM     \n",
        "\n",
        "''')"
      ],
      "execution_count": null,
      "outputs": []
    },
    {
      "cell_type": "markdown",
      "metadata": {
        "id": "u0PYgVqsuo7N"
      },
      "source": [
        "### Test Cases:"
      ]
    },
    {
      "cell_type": "code",
      "metadata": {
        "id": "DxpoCGS_uNqc"
      },
      "source": [
        "help(explore_tm)"
      ],
      "execution_count": null,
      "outputs": []
    },
    {
      "cell_type": "code",
      "metadata": {
        "id": "THq3o7AhuRem"
      },
      "source": [
        "explore_tm(Asg9DTM, \"aba#aba\",50)"
      ],
      "execution_count": null,
      "outputs": []
    },
    {
      "cell_type": "code",
      "metadata": {
        "id": "lIGV869SuSoP"
      },
      "source": [
        "explore_tm(Asg9DTM, \"aba#ab\",50)"
      ],
      "execution_count": null,
      "outputs": []
    },
    {
      "cell_type": "code",
      "metadata": {
        "id": "pK5gYjq1uT2k"
      },
      "source": [
        "explore_tm(Asg9DTM, \"aba#baba\",50)"
      ],
      "execution_count": null,
      "outputs": []
    },
    {
      "cell_type": "code",
      "metadata": {
        "id": "1suuqWHLuVAD"
      },
      "source": [
        "explore_tm(Asg9DTM, \"aba#babba\",50)"
      ],
      "execution_count": null,
      "outputs": []
    },
    {
      "cell_type": "code",
      "metadata": {
        "id": "u1xNzrCzuXat"
      },
      "source": [
        "explore_tm(Asg9DTM, \"bba#bbabba\",50)"
      ],
      "execution_count": null,
      "outputs": []
    },
    {
      "cell_type": "markdown",
      "metadata": {
        "id": "5QlSFum4ubtm"
      },
      "source": [
        "### 5 Tests You Add:"
      ]
    },
    {
      "cell_type": "code",
      "metadata": {
        "id": "uO2HYF8LuhEc"
      },
      "source": [
        "# Test 1"
      ],
      "execution_count": null,
      "outputs": []
    },
    {
      "cell_type": "code",
      "metadata": {
        "id": "ZNeqyBqkuieV"
      },
      "source": [
        "# Test 2"
      ],
      "execution_count": null,
      "outputs": []
    },
    {
      "cell_type": "code",
      "metadata": {
        "id": "YtbPqIcIukKl"
      },
      "source": [
        "# Test 3"
      ],
      "execution_count": null,
      "outputs": []
    },
    {
      "cell_type": "code",
      "metadata": {
        "id": "qN3IVwQWulIl"
      },
      "source": [
        "# Test 4"
      ],
      "execution_count": null,
      "outputs": []
    },
    {
      "cell_type": "code",
      "metadata": {
        "id": "j9kLvJBvumNO"
      },
      "source": [
        "# Test 5"
      ],
      "execution_count": null,
      "outputs": []
    },
    {
      "cell_type": "markdown",
      "metadata": {
        "id": "-RL2-xKKus2t"
      },
      "source": [
        "## Question 4 (25 points):\n"
      ]
    },
    {
      "cell_type": "markdown",
      "metadata": {
        "id": "-9-btsyEu-QE"
      },
      "source": [
        "-  Design a non-deterministic Turing machine (NDTM) over the input alphabet Σ = {a, b, #} for the language of all strings of the form w#x where w, x ∈ {a, b}∗ and w is a substring of x. See the definition of substring here: https://en.wikipedia.org/wiki/Substring\n",
        "\n",
        "- You must design a non-deterministic Turing machine—i.e., not design a DTM and call it an NDTM. You must employ a distinct phase of taking a guess (indicating it via your comments) and check the guess. A correct design will have a nondeterministic polynomial runtime, which means once the guess is made, only a polynomial zig-zag search must be involved to confirm the guess.\n",
        "\n",
        "- Add 5 tests on your own."
      ]
    },
    {
      "cell_type": "code",
      "metadata": {
        "id": "YVJPnI8Su4WV"
      },
      "source": [
        "# w#x NDTM\n",
        "Asg9NDTM = md2mc('''TM\n",
        "''')\n"
      ],
      "execution_count": null,
      "outputs": []
    },
    {
      "cell_type": "markdown",
      "metadata": {
        "id": "T3UKEXrpvZhd"
      },
      "source": [
        "### Test Cases:"
      ]
    },
    {
      "cell_type": "code",
      "metadata": {
        "id": "Eyt2gsjGvbjc"
      },
      "source": [
        "explore_tm(Asg9NDTM, \"aba#aba\",50)"
      ],
      "execution_count": null,
      "outputs": []
    },
    {
      "cell_type": "code",
      "metadata": {
        "id": "ZPT-VhPMvXD4"
      },
      "source": [
        "explore_tm(Asg9NDTM, \"aba#ab\",50)"
      ],
      "execution_count": null,
      "outputs": []
    },
    {
      "cell_type": "code",
      "metadata": {
        "id": "D7JxmSr4vdhk"
      },
      "source": [
        "explore_tm(Asg9NDTM, \"aba#baba\",50)"
      ],
      "execution_count": null,
      "outputs": []
    },
    {
      "cell_type": "code",
      "metadata": {
        "id": "MLeHFI96vfd_"
      },
      "source": [
        "explore_tm(Asg9NDTM, \"aba#babba\",50)"
      ],
      "execution_count": null,
      "outputs": []
    },
    {
      "cell_type": "code",
      "metadata": {
        "id": "KEHx2p6PvhDO"
      },
      "source": [
        "explore_tm(Asg9NDTM, \"bba#bbabba\",50)"
      ],
      "execution_count": null,
      "outputs": []
    },
    {
      "cell_type": "markdown",
      "metadata": {
        "id": "IRAFeBn7vjHP"
      },
      "source": [
        "### 5 Test Cases You Add"
      ]
    },
    {
      "cell_type": "code",
      "metadata": {
        "id": "FbpeX8ADvmVQ"
      },
      "source": [
        "# Test 1"
      ],
      "execution_count": null,
      "outputs": []
    },
    {
      "cell_type": "code",
      "metadata": {
        "id": "dGXDBQHNvmgu"
      },
      "source": [
        "# Test 2"
      ],
      "execution_count": null,
      "outputs": []
    },
    {
      "cell_type": "code",
      "metadata": {
        "id": "F_59X_C2vmn0"
      },
      "source": [
        "# Test 3"
      ],
      "execution_count": null,
      "outputs": []
    },
    {
      "cell_type": "code",
      "metadata": {
        "id": "sAGW1XytvmvL"
      },
      "source": [
        "# Test 4"
      ],
      "execution_count": null,
      "outputs": []
    },
    {
      "cell_type": "code",
      "metadata": {
        "id": "WY_x56U8vm4z"
      },
      "source": [
        "# Test 5"
      ],
      "execution_count": null,
      "outputs": []
    },
    {
      "cell_type": "markdown",
      "metadata": {
        "id": "lOH0x8cy7AuI"
      },
      "source": [
        "# END\n"
      ]
    }
  ]
}